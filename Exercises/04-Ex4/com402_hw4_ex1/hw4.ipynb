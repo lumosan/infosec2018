{
 "cells": [
  {
   "cell_type": "markdown",
   "metadata": {},
   "source": [
    "# 1"
   ]
  },
  {
   "cell_type": "code",
   "execution_count": 1,
   "metadata": {
    "collapsed": true
   },
   "outputs": [],
   "source": [
    "#!/usr/bin/env python3\n",
    "import random, datetime, sys, csv\n",
    "from random import randrange, randint\n",
    "\n",
    "date_start = datetime.date(2000, 1, 1)\n",
    "date_period = 365 * 17\n",
    "\n",
    "# Reads in emails.txt and movies.txt and creates 'nbr_movies' entries for each\n",
    "# email.\n",
    "# Returns the database, the emails and the movies in the following format:\n",
    "# [ [ user, movie, date, grade ], ... ]\n",
    "def create_db(nbr_movies):\n",
    "    with open(\"emails.txt\") as f:\n",
    "        emails = f.read().split(\"\\n\");\n",
    "    while \"\" in emails:\n",
    "        emails.remove(\"\")\n",
    "\n",
    "    with open(\"movies.txt\") as f:\n",
    "        movies = f.read().split(\"\\n\");\n",
    "    while \"\" in movies:\n",
    "        movies.remove(\"\")\n",
    "\n",
    "    db = []\n",
    "\n",
    "    for email in emails:\n",
    "        movies_index = list(range(0, len(movies)))\n",
    "        random.shuffle(movies_index)\n",
    "        for i, f in enumerate(movies_index[0:nbr_movies]):\n",
    "            dat = date_start + datetime.timedelta(randint(1, date_period))\n",
    "            db.append(\n",
    "                [email, movies[f], dat.strftime(\"%Y/%m/%d\"), randint(1, 5)])\n",
    "\n",
    "    return db, emails, movies"
   ]
  },
  {
   "cell_type": "code",
   "execution_count": 2,
   "metadata": {
    "collapsed": true
   },
   "outputs": [],
   "source": [
    "db, emails, movies = create_db(20)"
   ]
  },
  {
   "cell_type": "markdown",
   "metadata": {},
   "source": [
    "### 1a"
   ]
  },
  {
   "cell_type": "code",
   "execution_count": 3,
   "metadata": {
    "collapsed": true
   },
   "outputs": [],
   "source": [
    "# Anonymize the given database, but still let the get_movies_with_rating\n",
    "# function give the right answers.\n",
    "def anonymize_1(db):\n",
    "    anon = [['*', e[1], '*', e[3]] for e in db]\n",
    "    return anon"
   ]
  },
  {
   "cell_type": "code",
   "execution_count": 4,
   "metadata": {
    "collapsed": true
   },
   "outputs": [],
   "source": [
    "# For a given anonymized-database and a rating, this function should return\n",
    "# the films with the given rating.\n",
    "def get_movies_with_rating(anon, rating):\n",
    "    return list(set([e[1] for e in anon if e[3] == rating]))"
   ]
  },
  {
   "cell_type": "markdown",
   "metadata": {},
   "source": [
    "### 1b"
   ]
  },
  {
   "cell_type": "code",
   "execution_count": 5,
   "metadata": {
    "collapsed": true
   },
   "outputs": [],
   "source": [
    "# A bit lesser anonymization than anonymize_1, but still no date. The returned\n",
    "# database should have enough information to be used by get_top_rated. If you\n",
    "# use a too simple hashing-function like sha-256, the result will be rejected.\n",
    "def anonymize_2(db):\n",
    "    def superencryption(msg):\n",
    "        import base64\n",
    "        key = \"Never send a human to do a machine's job\"\n",
    "        if (len(key) < len(msg)):\n",
    "            key = key + key[0:len(msg) - len(key)]\n",
    "        amsg = map(ord, msg)\n",
    "        akey = map(ord, key[0:len(msg)])\n",
    "        y = ''.join([chr(v ^ i) for (i,v) in zip(akey, amsg)])\n",
    "        return base64.b64encode(y.encode('utf-8'))\n",
    "    return [[superencryption(e[0]), e[1], '*', e[3]] for e in db]"
   ]
  },
  {
   "cell_type": "code",
   "execution_count": 12,
   "metadata": {
    "collapsed": true
   },
   "outputs": [],
   "source": [
    "# get_top_rated searches for all users having rated a movie and searches their\n",
    "# top-rated movie(s). It returns a list of all found movies, also doubles!\n",
    "def get_top_rated_pd(anon, movie):\n",
    "    import pandas as pd\n",
    "    anon_df = pd.DataFrame(anon)\n",
    "    res = []\n",
    "    for e in anon_df.groupby(0):\n",
    "        if movie in list(e[1][1]):\n",
    "            top = e[1][3].where(lambda x: x==max(e[1][3])).notnull()\n",
    "            list_u = list(e[1][1].loc[top])\n",
    "            res += list_u\n",
    "    return res"
   ]
  },
  {
   "cell_type": "code",
   "execution_count": 16,
   "metadata": {},
   "outputs": [
    {
     "data": {
      "text/plain": [
       "3"
      ]
     },
     "execution_count": 16,
     "metadata": {},
     "output_type": "execute_result"
    }
   ],
   "source": [
    "max([1,2,3])"
   ]
  },
  {
   "cell_type": "code",
   "execution_count": 17,
   "metadata": {
    "collapsed": true
   },
   "outputs": [],
   "source": [
    "# get_top_rated searches for all users having rated a movie and searches their\n",
    "# top-rated movie(s). It returns a list of all found movies, also doubles!\n",
    "def get_top_rated(anon, movie):\n",
    "    res = []\n",
    "    users = list(set([e[0] for e in anon]))\n",
    "    for u in users:\n",
    "        movies_ratings = [[e[1], e[3]] for e in anon if e[0] == u]\n",
    "        condition = movie in [e[0] for e in movies_ratings]\n",
    "        if condition:\n",
    "            max_rating = max([e[1] for e in movies_ratings])\n",
    "            max_movies = [e[0] for e in movies_ratings if e[1] == max_rating]\n",
    "            res += max_movies\n",
    "    return res"
   ]
  },
  {
   "cell_type": "code",
   "execution_count": 18,
   "metadata": {},
   "outputs": [],
   "source": [
    "assert (get_top_rated(anon_db2, movies[0]) == get_top_rated(anon_db2, movies[0]))"
   ]
  },
  {
   "cell_type": "raw",
   "metadata": {},
   "source": [
    "    # If you modify this part, don't complain if it doesn't work anymore!\n",
    "    # This part is used to communicate with the verification-script. So you\n",
    "    # should not touch it (unless you're looking for a bug to exploit the\n",
    "    # verification script - but we didn't plan to put one in there).\n",
    "    if len(sys.argv) >= 3:\n",
    "        db_file, ex = sys.argv[1:3]\n",
    "        with open(db_file) as f:\n",
    "            db = list(csv.reader(f, skipinitialspace=True))\n",
    "        # Get nice ints for comparisons\n",
    "        for i, line in enumerate(db):\n",
    "            db[i][3] = int(line[3])\n",
    "\n",
    "        result = []\n",
    "        if ex == \"ex1aa\":\n",
    "            result = anonymize_1(db)\n",
    "        elif ex == \"ex1ag\":\n",
    "            rating = int(sys.argv[3])\n",
    "            result = [get_movies_with_rating(db, rating)]\n",
    "        elif ex == \"ex1ba\":\n",
    "            result = anonymize_2(db)\n",
    "        elif ex == \"ex1bg\":\n",
    "            movie = sys.argv[3]\n",
    "            result = [get_top_rated(db, movie)]\n",
    "\n",
    "        with open(\"/tmp/student.csv\", \"w\") as f:\n",
    "            writer = csv.writer(f)\n",
    "            writer.writerows(iter(result))\n"
   ]
  }
 ],
 "metadata": {
  "kernelspec": {
   "display_name": "Python 3",
   "language": "python",
   "name": "python3"
  },
  "language_info": {
   "codemirror_mode": {
    "name": "ipython",
    "version": 3
   },
   "file_extension": ".py",
   "mimetype": "text/x-python",
   "name": "python",
   "nbconvert_exporter": "python",
   "pygments_lexer": "ipython3",
   "version": "3.6.3"
  }
 },
 "nbformat": 4,
 "nbformat_minor": 2
}
