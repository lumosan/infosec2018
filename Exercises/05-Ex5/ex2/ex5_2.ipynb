{
 "cells": [
  {
   "cell_type": "markdown",
   "metadata": {},
   "source": [
    "The token is of the form: `COM402{<token>}`\n",
    "\n",
    "To solve this exercise, you need to look at commonly used steganographic techniques and\n",
    "figure out which technique has been used to hide the token"
   ]
  },
  {
   "cell_type": "code",
   "execution_count": 1,
   "metadata": {
    "collapsed": true
   },
   "outputs": [],
   "source": [
    "import wave\n",
    "import binascii"
   ]
  },
  {
   "cell_type": "markdown",
   "metadata": {},
   "source": [
    "## LSB"
   ]
  },
  {
   "cell_type": "code",
   "execution_count": 2,
   "metadata": {},
   "outputs": [],
   "source": [
    "str1 = 'COM402{'\n",
    "str2 = '}'"
   ]
  },
  {
   "cell_type": "code",
   "execution_count": 3,
   "metadata": {
    "collapsed": true
   },
   "outputs": [],
   "source": [
    "def str_to_bin_xbin(str1):\n",
    "    bin1 = str(binascii.hexlify(bytes(str1, 'utf-8')))[2:]\n",
    "    i1 = iter(bin1)\n",
    "    xbin1 = '\\\\x' + '\\\\x'.join(a+b for a,b in zip(i1, i1))\n",
    "    return bin1, xbin1"
   ]
  },
  {
   "cell_type": "code",
   "execution_count": 4,
   "metadata": {
    "collapsed": true
   },
   "outputs": [],
   "source": [
    "bin1, xbin1 = str_to_bin_xbin(str1)\n",
    "bin2, xbin2 = str_to_bin_xbin(str2)"
   ]
  },
  {
   "cell_type": "code",
   "execution_count": 5,
   "metadata": {},
   "outputs": [],
   "source": [
    "b1 = str(bin(int(binascii.hexlify(bytes(str1, 'utf-8')), 16)))[2:]\n",
    "b2 = str(bin(int(binascii.hexlify(bytes(str2, 'utf-8')), 16)))[2:]"
   ]
  },
  {
   "cell_type": "code",
   "execution_count": 6,
   "metadata": {},
   "outputs": [
    {
     "name": "stdout",
     "output_type": "stream",
     "text": [
      "Number of frames:  14603117\n",
      "Number of channels:  2\n",
      "Sample width:  2\n"
     ]
    }
   ],
   "source": [
    "w = wave.open(\"lucia.monterosanchis@epfl.ch.wav\")\n",
    "print(\"Number of frames: \", w.getnframes())\n",
    "print(\"Number of channels: \", w.getnchannels())\n",
    "print(\"Sample width: \", w.getsampwidth())\n",
    "\n",
    "string = ''\n",
    "\n",
    "for nf in range(w.getnframes()):\n",
    "#for nf in range(5):\n",
    "    f_hex = binascii.b2a_hex(w.readframes(1))\n",
    "    f_bin_s = str(bin(int(f_hex, 16)))[2:]\n",
    "    f_bin_s = '0'*(32-len(f_bin_s)) + f_bin_s\n",
    "    \n",
    "    # a. select each LSB from each byte\n",
    "    # (only finds b2)\n",
    "    #string += f_bin_s[7] + f_bin_s[15] + f_bin_s[23] + f_bin_s[31]   \n",
    "    \n",
    "    # b. select each LSB from each frame\n",
    "    # (only finds b2)\n",
    "    #string += f_bin_s[31]\n",
    "    \n",
    "    # c. select each LSB from each every two bytes, for first sample\n",
    "    # (only finds b2)\n",
    "    #string += f_bin_s[15] + f_bin_s[31]\n",
    "    \n",
    "    # d. select each LSB from each every two bytes, for second sample\n",
    "    # (finds b1 AND b2 :D)\n",
    "    string += f_bin_s[7] + f_bin_s[23]"
   ]
  },
  {
   "cell_type": "code",
   "execution_count": 7,
   "metadata": {},
   "outputs": [],
   "source": [
    "start = string.find(b1)"
   ]
  },
  {
   "cell_type": "code",
   "execution_count": 8,
   "metadata": {
    "collapsed": true
   },
   "outputs": [],
   "source": [
    "end = string.find(b2)"
   ]
  },
  {
   "cell_type": "code",
   "execution_count": 9,
   "metadata": {},
   "outputs": [
    {
     "data": {
      "text/plain": [
       "'COM402{PAs/AOsCOgBdIARCLyA/KXv884F7y2iYhTg0qwdnH8c=}'"
      ]
     },
     "execution_count": 9,
     "metadata": {},
     "output_type": "execute_result"
    }
   ],
   "source": [
    "bytes.fromhex(str(hex(int(string[start:end+len(b2)], 2)))[2:]).decode('utf-8')"
   ]
  },
  {
   "cell_type": "code",
   "execution_count": null,
   "metadata": {
    "collapsed": true
   },
   "outputs": [],
   "source": []
  }
 ],
 "metadata": {
  "kernelspec": {
   "display_name": "Python 3",
   "language": "python",
   "name": "python3"
  },
  "language_info": {
   "codemirror_mode": {
    "name": "ipython",
    "version": 3
   },
   "file_extension": ".py",
   "mimetype": "text/x-python",
   "name": "python",
   "nbconvert_exporter": "python",
   "pygments_lexer": "ipython3",
   "version": "3.6.3"
  }
 },
 "nbformat": 4,
 "nbformat_minor": 2
}
