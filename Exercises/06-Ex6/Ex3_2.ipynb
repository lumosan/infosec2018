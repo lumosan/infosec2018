{
 "cells": [
  {
   "cell_type": "markdown",
   "metadata": {},
   "source": [
    "Identify **port scanning** - technique used to find network hosts that have services listening on one or more target ports\n",
    "\n",
    "In **SYN scan**, the scanner sends **TCP SYN** packets (the first packet in\n",
    "the TCP handshake) and watches for hosts that respond with **SYN+ACK** packets (the second\n",
    "handshake step). Since most hosts are not prepared to receive connections on any given\n",
    "port, typically, during a port scan, a much smaller number of hosts will respond with\n",
    "**SYN+ACK** packets than originally received **SYN** packets.\n",
    "\n",
    "By observing this effect in a packet\n",
    "trace, you can identify source addresses that may be attempting a port scan. Your task is to\n",
    "develop a Python program that analyzes a pcap file in order to detect possible **SYN scans**.\n",
    "\n",
    "--------------\n",
    "\n",
    "The output should be the set of IP addresses (one per line) that (1) sent more than 3 times\n",
    "as many SYN packets as the number of SYN+ACK packets they received and (2) sent out at\n",
    "least one SYN packet but has not received any SYN+ACK packets. Your program should\n",
    "silently ignore packets that are malformed or that are not using Ethernet, IP, and TCP."
   ]
  },
  {
   "cell_type": "code",
   "execution_count": 12,
   "metadata": {
    "collapsed": true
   },
   "outputs": [],
   "source": [
    "import binascii\n",
    "import dpkt\n",
    "\n",
    "f = open('com402_hw6_ex3_p2.pcap', 'rb')\n",
    "pcap = dpkt.pcap.Reader(f)\n",
    "\n",
    "ip_sent_syn = {}\n",
    "ip_received_synack = {}\n",
    "\n",
    "# Iterate through all packets\n",
    "for ts, buf in pcap:\n",
    "    eth = dpkt.ethernet.Ethernet(buf)\n",
    "    ip = eth.data\n",
    "    tcp = ip.data\n",
    "    \n",
    "    # Get src and dst IP addresses\n",
    "    ip_src = ip.src\n",
    "    ip_dst = ip.dst\n",
    "    eth_src = eth.src\n",
    "    eth_dst = eth.dst\n",
    "    \n",
    "    # Get SYN and ACK flags\n",
    "    try:\n",
    "        syn_flag = (tcp.flags & dpkt.tcp.TH_SYN) != 0\n",
    "        ack_flag = (tcp.flags & dpkt.tcp.TH_ACK) != 0\n",
    "        \n",
    "        if syn_flag:\n",
    "            if not ack_flag:\n",
    "                # Save SYN packets\n",
    "                if ip_src in ip_sent_syn.keys():\n",
    "                    ip_sent_syn[ip_src] += 1\n",
    "                else:\n",
    "                    ip_sent_syn[ip_src] = 1\n",
    "            else:\n",
    "                # Save SYN+ACK packets\n",
    "                if ip_dst in ip_received_synack.keys():\n",
    "                    ip_received_synack[ip_dst] += 1\n",
    "                else:\n",
    "                    ip_received_synack[ip_dst] = 1\n",
    "    except AttributeError:\n",
    "        pass\n",
    "\n",
    "# Get suspicious IPs\n",
    "ip_suspicious = []\n",
    "\n",
    "for src, nb_syn in ip_sent_syn.items():\n",
    "    if src in ip_received_synack.keys():\n",
    "        nb_synack = ip_received_synack[src]\n",
    "        if nb_syn > 3 * nb_synack:\n",
    "            ip_suspicious.append(src)\n",
    "    else:\n",
    "        ip_suspicious.append(src)\n",
    "\n",
    "# Print solution\n",
    "for ip_add in ip_suspicious:\n",
    "    ip_add = str(binascii.hexlify(ip_add))[2:-1]\n",
    "    num_ip_add = [int(ip_add[i:i+2], 16) for i in range(0, len(ip_add), 2)]\n",
    "    print('{}.{}.{}.{}'.format(num_ip_add[0], num_ip_add[1], num_ip_add[2], num_ip_add[3]))"
   ]
  }
 ],
 "metadata": {
  "kernelspec": {
   "display_name": "Python 3",
   "language": "python",
   "name": "python3"
  },
  "language_info": {
   "codemirror_mode": {
    "name": "ipython",
    "version": 3
   },
   "file_extension": ".py",
   "mimetype": "text/x-python",
   "name": "python",
   "nbconvert_exporter": "python",
   "pygments_lexer": "ipython3",
   "version": "3.6.3"
  }
 },
 "nbformat": 4,
 "nbformat_minor": 2
}
