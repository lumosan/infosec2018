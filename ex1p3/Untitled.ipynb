{
 "cells": [
  {
   "cell_type": "code",
   "execution_count": 4,
   "metadata": {},
   "outputs": [],
   "source": [
    "a = \"ZYgT6HyLpW8b2glJNer2PNopB8siBaX9dUALfkj0civc3c260xJaIoHqXYCCyl97VljmD2hte2t3YqlDP2BIZTKoo0uNl8s cc --- 7984/7756/2484/2129 M0l0dG1ZaQKxOaspi8CaZHehsiZNnXflExlIp45F0T\""
   ]
  },
  {
   "cell_type": "code",
   "execution_count": 19,
   "metadata": {
    "collapsed": true
   },
   "outputs": [],
   "source": [
    "b = \"7sUIIOSyVFACdN5oENf4xvCdGsZRq1LwDMGExik6KNMsjGdcvjOiNqa3Nl2WKUixXFSUv7YrSu7eszevURo6iY6okN035MSSsv9Eq4Lw8ceIsFhOmPrBfzXgLhURG2 cc --- 5396/2116/9511/2393 FQpuLHn02LNFVVpzPXN8Cx90ndrZQnMChGJFW6wTOxTcCvhm1OG1Al4cqWYCaR2TRy7fOlpJ928xmg8rxuoHlf0AHDxSUKp2V5HK0HXvkINgKL2T00hk5cTdalZIBsgnO969Ote\""
   ]
  },
  {
   "cell_type": "code",
   "execution_count": 20,
   "metadata": {
    "collapsed": true
   },
   "outputs": [],
   "source": [
    "c = \"ZEy6dLDpoh13iGqrb7BiVrCg9c6haYEcP0fILRPnY5HprgnbmOgNwnBCOhxcYJPfGAHE3AYQ3qVza71XcV9omHmZL8SpZWOPnl25t00qIx4kYxmv3qvzUvjf9iTZuTZ7ZLfqi7pReInLPvnLqQo2iBGIGyd0afXSUGTprJnP39R1vQ7SRkh3ITjMVFeMJMeKJELR pwd --- =XW=NRTYPGY<TO 0Jd1OBAQ9ycMMrAMiuha5NWCoem9ksY3x7p7PuGQiqNgl3enFbBFndib205S0kh1NHjl1WAtC936m1k\""
   ]
  },
  {
   "cell_type": "code",
   "execution_count": 21,
   "metadata": {
    "collapsed": true
   },
   "outputs": [],
   "source": [
    "d=\"Eh5q0qFltiaiT8mZEuEVN8lVnVE4ilPNfwtGgoe8IAJucfCzX40gSHvF2ZwRNnmjIEZsmt5FOor2C8CkXtWY cc --- 1094.5623.4.45 7p8RLqWnYlD7dNIu6ZlvVqBTlP6uXpJMAbqsAZidQxbQzvLKg5TrjbXP2tDq1SOiQcKj0AJiusseh\""
   ]
  },
  {
   "cell_type": "code",
   "execution_count": 22,
   "metadata": {
    "collapsed": true
   },
   "outputs": [],
   "source": [
    "e=\"8gLwLyyqf0pBrzJbVnSwTWqRc0KVpW0a42e9GupwdyEFFHXwPiY5HQCnBAGoS6LiJxnTcPwYI7veksAw7L7inV0Y1maJr pwd --- stay@strong Kyy9BWUR3s6ZyodYqf5mm9b0UVVVAHoxNZEYpnIsIx4D1q2moq6eG\""
   ]
  },
  {
   "cell_type": "code",
   "execution_count": 23,
   "metadata": {},
   "outputs": [],
   "source": [
    "def find_secrets(text):\n",
    "    def find_pwd(text):\n",
    "        secret = 0\n",
    "        pwd = text.rpartition(' pwd ---')[2].split()[0]\n",
    "        if pwd.isupper():\n",
    "            secret = pwd\n",
    "        return secret\n",
    "    def find_cc(text):\n",
    "        secret = 0\n",
    "        cc = text.rpartition(' cc ---')[2].split()[0]\n",
    "        if '.' in cc:\n",
    "            secret = find_cc_sep(cc,'.')                \n",
    "        elif '/' in cc:\n",
    "            secret = find_cc_sep(cc,'/')\n",
    "        return secret\n",
    "    def find_cc_sep(cc, sep):\n",
    "        secret = 0\n",
    "        cc_array = cc.split(sep)\n",
    "        flag = True\n",
    "        if (len(cc_array) != 4):\n",
    "            flag = False\n",
    "        for cc_nb in cc_array:\n",
    "            if(len(cc_nb) != 4):\n",
    "                flag = False\n",
    "        if flag:\n",
    "            secret = cc\n",
    "        return secret\n",
    "\n",
    "    secret = 0\n",
    "    if ' pwd ---' in text:\n",
    "        secret = find_pwd(text)\n",
    "    elif ' cc --- ' in text:\n",
    "        secret = find_cc(text)\n",
    "    return secret"
   ]
  }
 ],
 "metadata": {
  "kernelspec": {
   "display_name": "Python 3",
   "language": "python",
   "name": "python3"
  },
  "language_info": {
   "codemirror_mode": {
    "name": "ipython",
    "version": 3
   },
   "file_extension": ".py",
   "mimetype": "text/x-python",
   "name": "python",
   "nbconvert_exporter": "python",
   "pygments_lexer": "ipython3",
   "version": "3.6.3"
  }
 },
 "nbformat": 4,
 "nbformat_minor": 2
}
