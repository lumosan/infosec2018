{
 "cells": [
  {
   "cell_type": "code",
   "execution_count": 4,
   "metadata": {},
   "outputs": [],
   "source": [
    "a = \"ZYgT6HyLpW8b2glJNer2PNopB8siBaX9dUALfkj0civc3c260xJaIoHqXYCCyl97VljmD2hte2t3YqlDP2BIZTKoo0uNl8s cc --- 7984/7756/2484/2129 M0l0dG1ZaQKxOaspi8CaZHehsiZNnXflExlIp45F0T\""
   ]
  },
  {
   "cell_type": "code",
   "execution_count": 4,
   "metadata": {
    "collapsed": true
   },
   "outputs": [],
   "source": [
    "b = \"ZYgT6HyLpW8b2glJNer2PNopB8siBaX9dUALfkj0civc3c260xJaIoHqXYCCyl97VljmD2hte2t3YqlDP2BIZTKoo0uNl8s cc --- 7984/7756// M0l0dG1ZaQKxOaspi8CaZHehsiZNnXflExlIp45F0T\""
   ]
  },
  {
   "cell_type": "code",
   "execution_count": 14,
   "metadata": {},
   "outputs": [],
   "source": [
    "def find_secrets(text):\n",
    "    def find_pwd(text):\n",
    "        secret = 0\n",
    "        pwd = text.rpartition(' pwd ---')[2].split()[0]\n",
    "        if pwd.isupper():\n",
    "            secret = pwd\n",
    "        return secret\n",
    "    def find_cc(text):\n",
    "        secret = 0\n",
    "        cc = text.rpartition(' cc ---')[2].split()[0]\n",
    "        if '.' in cc:\n",
    "            secret = find_cc_sep(cc,'.')                \n",
    "        elif '/' in cc:\n",
    "            secret = find_cc_sep(cc,'/')\n",
    "        return secret\n",
    "    def find_cc_sep(cc, sep):\n",
    "        secret = 0\n",
    "        cc_array = cc.split(sep)\n",
    "        flag = True\n",
    "        if (len(cc_array) != 4):\n",
    "            flag = False\n",
    "        for cc_nb in cc_array:\n",
    "            if(len(cc_nb) != 4):\n",
    "                flag = False\n",
    "        if flag:\n",
    "            secret = cc\n",
    "        return secret\n",
    "\n",
    "    secret = 0\n",
    "    if ' pwd ---' in text:\n",
    "        secret = find_pwd(text)\n",
    "    elif ' cc --- ' in text:\n",
    "        secret = find_cc(text)\n",
    "    return secret"
   ]
  },
  {
   "cell_type": "code",
   "execution_count": 15,
   "metadata": {},
   "outputs": [
    {
     "data": {
      "text/plain": [
       "'7984/7756/2484/2129'"
      ]
     },
     "execution_count": 15,
     "metadata": {},
     "output_type": "execute_result"
    }
   ],
   "source": [
    "find_secrets(a)"
   ]
  },
  {
   "cell_type": "code",
   "execution_count": 9,
   "metadata": {},
   "outputs": [
    {
     "data": {
      "text/plain": [
       "str"
      ]
     },
     "execution_count": 9,
     "metadata": {},
     "output_type": "execute_result"
    }
   ],
   "source": [
    "type(a)"
   ]
  },
  {
   "cell_type": "code",
   "execution_count": null,
   "metadata": {
    "collapsed": true
   },
   "outputs": [],
   "source": []
  }
 ],
 "metadata": {
  "kernelspec": {
   "display_name": "Python 3",
   "language": "python",
   "name": "python3"
  },
  "language_info": {
   "codemirror_mode": {
    "name": "ipython",
    "version": 3
   },
   "file_extension": ".py",
   "mimetype": "text/x-python",
   "name": "python",
   "nbconvert_exporter": "python",
   "pygments_lexer": "ipython3",
   "version": "3.6.3"
  }
 },
 "nbformat": 4,
 "nbformat_minor": 2
}
